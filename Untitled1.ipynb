{
  "nbformat": 4,
  "nbformat_minor": 0,
  "metadata": {
    "colab": {
      "provenance": [],
      "authorship_tag": "ABX9TyPwo4//GP9rdghciss/WNos",
      "include_colab_link": true
    },
    "kernelspec": {
      "name": "python3",
      "display_name": "Python 3"
    },
    "language_info": {
      "name": "python"
    }
  },
  "cells": [
    {
      "cell_type": "markdown",
      "metadata": {
        "id": "view-in-github",
        "colab_type": "text"
      },
      "source": [
        "<a href=\"https://colab.research.google.com/github/Shenkjain0711/NotesOfYouTubeSQLSeries/blob/main/Untitled1.ipynb\" target=\"_parent\"><img src=\"https://colab.research.google.com/assets/colab-badge.svg\" alt=\"Open In Colab\"/></a>"
      ]
    },
    {
      "cell_type": "code",
      "execution_count": null,
      "metadata": {
        "colab": {
          "base_uri": "https://localhost:8080/"
        },
        "id": "DAfycuF2No0i",
        "outputId": "bc7e7ce3-c44f-4a00-fa4e-04b8f0c227f6"
      },
      "outputs": [
        {
          "output_type": "stream",
          "name": "stdout",
          "text": [
            "Enter starting num: 2\n",
            "Enter ending num: 45\n",
            "3\n",
            "5\n",
            "7\n",
            "9\n",
            "11\n",
            "13\n",
            "15\n",
            "17\n",
            "19\n",
            "21\n",
            "23\n",
            "25\n",
            "27\n",
            "29\n",
            "31\n",
            "33\n",
            "35\n",
            "37\n",
            "39\n",
            "41\n",
            "43\n",
            "45\n"
          ]
        }
      ],
      "source": [
        "start_num = int(input(\"Enter starting num: \"))\n",
        "end_num = int(input(\"Enter ending num: \"))\n",
        "numbers = range(start_num,end_num+1)\n",
        "sum = 0\n",
        "for x in numbers:\n",
        "  if (x%2!= 0):\n",
        "    print(x)\n",
        "\n",
        "\n",
        "\n",
        "\n",
        "\n"
      ]
    },
    {
      "cell_type": "code",
      "source": [
        "orders = [100, \"invalid\",\"none\", 100, 20, 'Cancel']\n",
        "sum = 0\n",
        "i= 0\n",
        "while i < len(orders):\n",
        "  if type(orders[i]) == int or type(orders[i])== float:\n",
        "    sum = sum+orders[i]\n",
        "  else:\n",
        "    pass\n",
        "  i= i+1\n",
        "print(\"sum:\", sum)\n",
        "print(orders.index(\"none\"))\n",
        "print(orders.count(100))\n",
        "\n"
      ],
      "metadata": {
        "colab": {
          "base_uri": "https://localhost:8080/"
        },
        "id": "di_LV_rVuabP",
        "outputId": "8e07e0f3-732b-46fe-8c4c-a347f61ceb69"
      },
      "execution_count": null,
      "outputs": [
        {
          "output_type": "stream",
          "name": "stdout",
          "text": [
            "sum: 220\n",
            "2\n",
            "2\n"
          ]
        }
      ]
    },
    {
      "cell_type": "code",
      "source": [],
      "metadata": {
        "id": "7jpGkzvgY_1X"
      },
      "execution_count": null,
      "outputs": []
    },
    {
      "cell_type": "code",
      "source": [],
      "metadata": {
        "id": "cvqFdPFMZB5S"
      },
      "execution_count": null,
      "outputs": []
    },
    {
      "cell_type": "code",
      "source": [
        "##List Comprehension\n",
        "order_amount = [(100,5),(200,18),(50,12),(500,18),(400,42)]\n",
        "tot_order = [x+y for x,y in order_amount]\n",
        "print(tot_order)\n",
        "abc = [1,2,3,4,5]\n"
      ],
      "metadata": {
        "colab": {
          "base_uri": "https://localhost:8080/"
        },
        "id": "gjLZUssNk7SS",
        "outputId": "8ff3a604-ddef-4f8a-f85e-7014922c0a82"
      },
      "execution_count": null,
      "outputs": [
        {
          "output_type": "stream",
          "name": "stdout",
          "text": [
            "[105, 218, 62, 518, 442]\n"
          ]
        }
      ]
    },
    {
      "cell_type": "code",
      "source": [
        "word = {'a':'smart', 'b':'great', 4:0}\n",
        "print(word.values())\n",
        "print(word['a'])\n",
        "word['a'] = \"car\"\n",
        "print(word.values())"
      ],
      "metadata": {
        "colab": {
          "base_uri": "https://localhost:8080/"
        },
        "id": "bt1j1kXcD4JN",
        "outputId": "986023bb-7141-46fc-f31e-94d371c6d134"
      },
      "execution_count": null,
      "outputs": [
        {
          "output_type": "stream",
          "name": "stdout",
          "text": [
            "dict_values(['smart', 'great', 0])\n",
            "smart\n",
            "dict_values(['car', 'great', 0])\n"
          ]
        }
      ]
    },
    {
      "cell_type": "code",
      "source": [
        "#list of tuples in dictionary\n",
        "order = [(101,1000),(102, 2000)]\n",
        "print(order[1])\n",
        "t=dict(order)\n",
        "print(type(t))\n",
        "print(t.items())"
      ],
      "metadata": {
        "colab": {
          "base_uri": "https://localhost:8080/"
        },
        "id": "SSIKmWx8FDXh",
        "outputId": "ed2c635f-e242-4846-be31-c1797a574b62"
      },
      "execution_count": null,
      "outputs": [
        {
          "output_type": "stream",
          "name": "stdout",
          "text": [
            "(102, 2000)\n",
            "<class 'dict'>\n",
            "dict_items([(101, 1000), (102, 2000)])\n"
          ]
        }
      ]
    },
    {
      "cell_type": "code",
      "source": [],
      "metadata": {
        "id": "474rMm9VSvc_"
      },
      "execution_count": null,
      "outputs": []
    },
    {
      "cell_type": "code",
      "source": [
        "#How to build dictionary\n",
        "cust_raw_data= \"\"\"id, name, city, phone\n",
        "101, Mary, Rochester, 2554184\n",
        "102, Shikha, Auburn, 2554986756184\"\"\"\n",
        "cust_header= cust_raw_data.split(\"\\n\")[0]\n",
        "cust_data = cust_raw_data.split(\"\\n\")[1:]\n",
        "d={}\n",
        "print(cust_header)\n",
        "print(cust_data)\n",
        "for x in cust_data:\n",
        "  d[x.split(\",\")[0]] = tuple(x.split(\",\")[1:])\n",
        "for i,j in d.items():\n",
        "  print(d.items())\n"
      ],
      "metadata": {
        "colab": {
          "base_uri": "https://localhost:8080/"
        },
        "id": "fRXZOoDMRGxM",
        "outputId": "b32e1d07-3889-4302-c71e-4835534562bf"
      },
      "execution_count": null,
      "outputs": [
        {
          "output_type": "stream",
          "name": "stdout",
          "text": [
            "id, name, city, phone\n",
            "['101, Mary, Rochester, 2554184', '102, Shikha, Auburn, 2554986756184']\n",
            "dict_items([('101', (' Mary', ' Rochester', ' 2554184')), ('102', (' Shikha', ' Auburn', ' 2554986756184'))])\n",
            "dict_items([('101', (' Mary', ' Rochester', ' 2554184')), ('102', (' Shikha', ' Auburn', ' 2554986756184'))])\n"
          ]
        }
      ]
    },
    {
      "cell_type": "code",
      "source": [
        "emp_list = [('Ankit',10000),('Rahul',12000),('Sumit',14000),('Dheeraj',21000),('Pavan',11000),('Mohit',13000)]\n",
        "d= {}\n",
        "for k,v in emp_list:\n",
        "  d.setdefault(k,[]).append(v)\n",
        "print(d.values())\n",
        "\n"
      ],
      "metadata": {
        "colab": {
          "base_uri": "https://localhost:8080/"
        },
        "id": "ml8P-1LSWkD1",
        "outputId": "f198da5e-36e8-4330-f6f5-8afb0abb939f"
      },
      "execution_count": null,
      "outputs": [
        {
          "output_type": "stream",
          "name": "stdout",
          "text": [
            "dict_values([[10000], [12000], [14000], [21000], [11000], [13000]])\n"
          ]
        }
      ]
    },
    {
      "cell_type": "code",
      "source": [
        "# Max value in a dictionary\n",
        "from collections import defaultdict\n",
        "class Solution:\n",
        "  def func(self,nums):\n",
        "    d = defaultdict(int)\n",
        "    for x in nums:\n",
        "      d[x] = d[x] + 1\n",
        "    m=max(d, key=d.get)\n",
        "    return m\n",
        "\n",
        "nums = [2,3,4,2,5,7,2]\n",
        "t= Solution()\n",
        "t.func(nums)\n"
      ],
      "metadata": {
        "colab": {
          "base_uri": "https://localhost:8080/"
        },
        "id": "tPoKOhksZC80",
        "outputId": "828d2aa8-9909-4cc6-a9a4-6fa4fc9496c6"
      },
      "execution_count": 5,
      "outputs": [
        {
          "output_type": "execute_result",
          "data": {
            "text/plain": [
              "2"
            ]
          },
          "metadata": {},
          "execution_count": 5
        }
      ]
    },
    {
      "cell_type": "code",
      "source": [
        "class myc:\n",
        "  def func(self,nums):\n",
        "    d = defaultdict(int)\n",
        "    for x in nums:\n",
        "      d[x]= d[x]+1\n",
        "    m=max(d,key=(d.get))\n",
        "    return m\n",
        "\n",
        "di = myc()\n",
        "di.func([4,6,7,4,4,9,0,4,7,2,4])"
      ],
      "metadata": {
        "colab": {
          "base_uri": "https://localhost:8080/"
        },
        "id": "Lj7OOSY_bb_k",
        "outputId": "8ff4f740-30ef-49c0-d16a-1b5eec1d0382"
      },
      "execution_count": 7,
      "outputs": [
        {
          "output_type": "execute_result",
          "data": {
            "text/plain": [
              "4"
            ]
          },
          "metadata": {},
          "execution_count": 7
        }
      ]
    },
    {
      "cell_type": "code",
      "source": [
        "#Max value in a dictionary\n",
        "\n",
        "class myc:\n",
        "  def func(self,nums):\n",
        "    m = max(nums,key=nums.get)\n",
        "    return m\n",
        "\n",
        "\n",
        "\n",
        "t = myc()\n",
        "t.func({'1': 4, 'car': 6, 'love': 100, '34': 32})\n"
      ],
      "metadata": {
        "colab": {
          "base_uri": "https://localhost:8080/",
          "height": 35
        },
        "id": "HTT5msnRcV6N",
        "outputId": "c386a6d0-05e9-4dae-ecc0-c712130deffc"
      },
      "execution_count": 8,
      "outputs": [
        {
          "output_type": "execute_result",
          "data": {
            "text/plain": [
              "'love'"
            ],
            "application/vnd.google.colaboratory.intrinsic+json": {
              "type": "string"
            }
          },
          "metadata": {},
          "execution_count": 8
        }
      ]
    }
  ]
}